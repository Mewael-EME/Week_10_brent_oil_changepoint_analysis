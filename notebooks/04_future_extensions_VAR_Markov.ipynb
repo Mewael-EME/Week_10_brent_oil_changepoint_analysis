{
 "cells": [
  {
   "cell_type": "code",
   "execution_count": 5,
   "id": "83c146cb-d083-44b9-8c42-db6faf8c9432",
   "metadata": {},
   "outputs": [],
   "source": [
    "# 04_future_extensions_VAR_Markov.ipynb\n",
    "\n",
    "# --- 1. Imports ---\n",
    "import numpy as np\n",
    "import pandas as pd\n",
    "import matplotlib.pyplot as plt\n",
    "from statsmodels.tsa.api import VAR\n",
    "from statsmodels.tsa.regime_switching.markov_switching import MarkovSwitching\n",
    "from statsmodels.tsa.regime_switching.markov_autoregression import MarkovAutoregression"
   ]
  },
  {
   "cell_type": "code",
   "execution_count": 3,
   "id": "f212b628-a8b7-44da-b828-e2df386eb6c9",
   "metadata": {},
   "outputs": [],
   "source": [
    "# --- 2. Load and Prepare Data ---\n",
    "df = pd.read_csv(\"../data/brent_oil_prices.csv\", parse_dates=[\"Date\"])\n",
    "df = df.set_index(\"Date\")"
   ]
  },
  {
   "cell_type": "code",
   "execution_count": 6,
   "id": "e75d72b7-bddd-4758-9326-8a1578555dad",
   "metadata": {},
   "outputs": [],
   "source": [
    "# Ensure stationarity\n",
    "df[\"Log_Returns\"] = df[\"Price\"].pct_change().apply(lambda x: np.log1p(x))\n",
    "df = df.dropna()"
   ]
  },
  {
   "cell_type": "code",
   "execution_count": 11,
   "id": "fc2626d6-b2c3-4d52-981d-8d331f829ff0",
   "metadata": {},
   "outputs": [
    {
     "name": "stdout",
     "output_type": "stream",
     "text": [
      "✅ VAR Model Summary:\n",
      "  Summary of Regression Results   \n",
      "==================================\n",
      "Model:                         VAR\n",
      "Method:                        OLS\n",
      "Date:           Tue, 05, Aug, 2025\n",
      "Time:                     20:06:57\n",
      "--------------------------------------------------------------------\n",
      "No. of Equations:         3.00000    BIC:                   -27.1227\n",
      "Nobs:                     9008.00    HQIC:                  -27.1289\n",
      "Log likelihood:           83869.7    FPE:                1.64691e-12\n",
      "AIC:                     -27.1321    Det(Omega_mle):     1.64472e-12\n",
      "--------------------------------------------------------------------\n",
      "Results for equation Log_Returns\n",
      "=================================================================================\n",
      "                    coefficient       std. error           t-stat            prob\n",
      "---------------------------------------------------------------------------------\n",
      "const                  0.000189         0.000269            0.704           0.481\n",
      "L1.Log_Returns         0.053211         0.054235            0.981           0.327\n",
      "L1.USD_Index          -0.067566         0.053387           -1.266           0.206\n",
      "L1.Stock_Index        -0.026308         0.009733           -2.703           0.007\n",
      "=================================================================================\n",
      "\n",
      "Results for equation USD_Index\n",
      "=================================================================================\n",
      "                    coefficient       std. error           t-stat            prob\n",
      "---------------------------------------------------------------------------------\n",
      "const                  0.000186         0.000273            0.679           0.497\n",
      "L1.Log_Returns         0.068497         0.055087            1.243           0.214\n",
      "L1.USD_Index          -0.082777         0.054226           -1.527           0.127\n",
      "L1.Stock_Index        -0.029638         0.009886           -2.998           0.003\n",
      "=================================================================================\n",
      "\n",
      "Results for equation Stock_Index\n",
      "=================================================================================\n",
      "                    coefficient       std. error           t-stat            prob\n",
      "---------------------------------------------------------------------------------\n",
      "const                  0.000100         0.000105            0.952           0.341\n",
      "L1.Log_Returns         0.986343         0.021196           46.535           0.000\n",
      "L1.USD_Index           0.023025         0.020864            1.104           0.270\n",
      "L1.Stock_Index         0.003662         0.003804            0.963           0.336\n",
      "=================================================================================\n",
      "\n",
      "Correlation matrix of residuals\n",
      "               Log_Returns  USD_Index  Stock_Index\n",
      "Log_Returns       1.000000   0.980942     0.007478\n",
      "USD_Index         0.980942   1.000000     0.007220\n",
      "Stock_Index       0.007478   0.007220     1.000000\n",
      "\n",
      "\n",
      "\n"
     ]
    },
    {
     "name": "stderr",
     "output_type": "stream",
     "text": [
      "C:\\Users\\Admin\\AppData\\Local\\Programs\\Python\\Python311\\Lib\\site-packages\\statsmodels\\tsa\\base\\tsa_model.py:473: ValueWarning: A date index has been provided, but it has no associated frequency information and so will be ignored when e.g. forecasting.\n",
      "  self._init_dates(dates, freq)\n"
     ]
    }
   ],
   "source": [
    "# --- 3. Vector Autoregression (VAR) Example ---\n",
    "np.random.seed(42)\n",
    "df[\"USD_Index\"] = df[\"Log_Returns\"] + np.random.normal(0, 0.005, len(df))\n",
    "df[\"Stock_Index\"] = df[\"Log_Returns\"].shift(1) + np.random.normal(0, 0.01, len(df))\n",
    "\n",
    "model_data = df[[\"Log_Returns\", \"USD_Index\", \"Stock_Index\"]].dropna()\n",
    "var_model = VAR(model_data)\n",
    "results = var_model.fit(maxlags=5, ic='aic')\n",
    "\n",
    "print(\"✅ VAR Model Summary:\")\n",
    "print(results.summary())"
   ]
  },
  {
   "cell_type": "code",
   "execution_count": 10,
   "id": "f5087b2c-1299-43f6-beca-295227d2db66",
   "metadata": {},
   "outputs": [
    {
     "name": "stderr",
     "output_type": "stream",
     "text": [
      "C:\\Users\\Admin\\AppData\\Local\\Programs\\Python\\Python311\\Lib\\site-packages\\statsmodels\\tsa\\base\\tsa_model.py:473: ValueWarning: A date index has been provided, but it has no associated frequency information and so will be ignored when e.g. forecasting.\n",
      "  self._init_dates(dates, freq)\n"
     ]
    },
    {
     "name": "stdout",
     "output_type": "stream",
     "text": [
      "✅ Markov Switching Summary:\n",
      "                         Markov Switching Model Results                         \n",
      "================================================================================\n",
      "Dep. Variable:              Log_Returns   No. Observations:                 9009\n",
      "Model:             MarkovAutoregression   Log Likelihood               21912.675\n",
      "Date:                  Tue, 05 Aug 2025   AIC                         -43809.350\n",
      "Time:                          20:05:35   BIC                         -43752.502\n",
      "Sample:                               0   HQIC                        -43790.007\n",
      "                                 - 9009                                         \n",
      "Covariance Type:                 approx                                         \n",
      "                             Regime 0 parameters                              \n",
      "==============================================================================\n",
      "                 coef    std err          z      P>|z|      [0.025      0.975]\n",
      "------------------------------------------------------------------------------\n",
      "const          0.0005      0.000      2.249      0.025    6.24e-05       0.001\n",
      "sigma2         0.0003   7.64e-06     41.789      0.000       0.000       0.000\n",
      "ar.L1          0.0293      0.012      2.536      0.011       0.007       0.052\n",
      "                             Regime 1 parameters                              \n",
      "==============================================================================\n",
      "                 coef    std err          z      P>|z|      [0.025      0.975]\n",
      "------------------------------------------------------------------------------\n",
      "const         -0.0024      0.002     -1.269      0.204      -0.006       0.001\n",
      "sigma2         0.0035      0.000     14.125      0.000       0.003       0.004\n",
      "ar.L1         -0.0558      0.034     -1.634      0.102      -0.123       0.011\n",
      "                         Regime transition parameters                         \n",
      "==============================================================================\n",
      "                 coef    std err          z      P>|z|      [0.025      0.975]\n",
      "------------------------------------------------------------------------------\n",
      "p[0->0]        0.9863      0.002    444.801      0.000       0.982       0.991\n",
      "p[1->0]        0.1175      0.018      6.413      0.000       0.082       0.153\n",
      "==============================================================================\n",
      "\n",
      "Warnings:\n",
      "[1] Covariance matrix calculated using numerical (complex-step) differentiation.\n"
     ]
    }
   ],
   "source": [
    "# --- 4. Markov Regime Switching (on Log_Returns) ---\n",
    "mod = MarkovAutoregression(df[\"Log_Returns\"], k_regimes=2, order=1, switching_variance=True)\n",
    "res = mod.fit()\n",
    "print(\"✅ Markov Switching Summary:\")\n",
    "print(res.summary())"
   ]
  },
  {
   "cell_type": "code",
   "execution_count": 12,
   "id": "7b0be9a6-9f8c-4f8b-8919-c1b20fc67f93",
   "metadata": {},
   "outputs": [
    {
     "ename": "ValueError",
     "evalue": "No axis named 1 for object type Series",
     "output_type": "error",
     "traceback": [
      "\u001b[31m---------------------------------------------------------------------------\u001b[39m",
      "\u001b[31mKeyError\u001b[39m                                  Traceback (most recent call last)",
      "\u001b[32m~\\AppData\\Local\\Programs\\Python\\Python311\\Lib\\site-packages\\pandas\\core\\generic.py\u001b[39m in \u001b[36m?\u001b[39m\u001b[34m(cls, axis)\u001b[39m\n\u001b[32m    576\u001b[39m             \u001b[38;5;28;01mreturn\u001b[39;00m cls._AXIS_TO_AXIS_NUMBER[axis]\n\u001b[32m    577\u001b[39m         \u001b[38;5;28;01mexcept\u001b[39;00m KeyError:\n\u001b[32m--> \u001b[39m\u001b[32m578\u001b[39m             \u001b[38;5;28;01mraise\u001b[39;00m ValueError(\u001b[33mf\"No axis named {axis} for object type {cls.__name__}\"\u001b[39m)\n",
      "\u001b[31mKeyError\u001b[39m: 1",
      "\nDuring handling of the above exception, another exception occurred:\n",
      "\u001b[31mValueError\u001b[39m                                Traceback (most recent call last)",
      "\u001b[32m~\\AppData\\Local\\Temp\\ipykernel_12832\\2647139852.py\u001b[39m in \u001b[36m?\u001b[39m\u001b[34m()\u001b[39m\n\u001b[32m      1\u001b[39m \u001b[38;5;66;03m# --- 5. Plot Regimes ---\u001b[39;00m\n\u001b[32m----> \u001b[39m\u001b[32m2\u001b[39m df[\u001b[33m\"Regime\"\u001b[39m] = res.smoothed_marginal_probabilities[\u001b[32m1\u001b[39m].idxmax(axis=\u001b[32m1\u001b[39m)\n\u001b[32m      3\u001b[39m plt.figure(figsize=(\u001b[32m12\u001b[39m, \u001b[32m5\u001b[39m))\n\u001b[32m      4\u001b[39m plt.plot(df[\u001b[33m\"Log_Returns\"\u001b[39m], label=\u001b[33m\"Log Returns\"\u001b[39m)\n\u001b[32m      5\u001b[39m plt.plot(df[\u001b[33m\"Regime\"\u001b[39m], label=\u001b[33m\"Regime\"\u001b[39m, alpha=\u001b[32m0.6\u001b[39m)\n",
      "\u001b[32m~\\AppData\\Local\\Programs\\Python\\Python311\\Lib\\site-packages\\pandas\\core\\series.py\u001b[39m in \u001b[36m?\u001b[39m\u001b[34m(self, axis, skipna, *args, **kwargs)\u001b[39m\n\u001b[32m   2751\u001b[39m \n\u001b[32m   2752\u001b[39m         >>> s.idxmax(skipna=\u001b[38;5;28;01mFalse\u001b[39;00m)\n\u001b[32m   2753\u001b[39m         nan\n\u001b[32m   2754\u001b[39m         \"\"\"\n\u001b[32m-> \u001b[39m\u001b[32m2755\u001b[39m         axis = self._get_axis_number(axis)\n\u001b[32m   2756\u001b[39m         \u001b[38;5;28;01mwith\u001b[39;00m warnings.catch_warnings():\n\u001b[32m   2757\u001b[39m             \u001b[38;5;66;03m# TODO(3.0): this catching/filtering can be removed\u001b[39;00m\n\u001b[32m   2758\u001b[39m             \u001b[38;5;66;03m# ignore warning produced by argmax since we will issue a different\u001b[39;00m\n",
      "\u001b[32m~\\AppData\\Local\\Programs\\Python\\Python311\\Lib\\site-packages\\pandas\\core\\generic.py\u001b[39m in \u001b[36m?\u001b[39m\u001b[34m(cls, axis)\u001b[39m\n\u001b[32m    574\u001b[39m     \u001b[38;5;28;01mdef\u001b[39;00m _get_axis_number(cls, axis: Axis) -> AxisInt:\n\u001b[32m    575\u001b[39m         \u001b[38;5;28;01mtry\u001b[39;00m:\n\u001b[32m    576\u001b[39m             \u001b[38;5;28;01mreturn\u001b[39;00m cls._AXIS_TO_AXIS_NUMBER[axis]\n\u001b[32m    577\u001b[39m         \u001b[38;5;28;01mexcept\u001b[39;00m KeyError:\n\u001b[32m--> \u001b[39m\u001b[32m578\u001b[39m             \u001b[38;5;28;01mraise\u001b[39;00m ValueError(\u001b[33mf\"No axis named {axis} for object type {cls.__name__}\"\u001b[39m)\n",
      "\u001b[31mValueError\u001b[39m: No axis named 1 for object type Series"
     ]
    }
   ],
   "source": [
    "# --- 5. Plot Regimes ---\n",
    "df[\"Regime\"] = res.smoothed_marginal_probabilities[1].idxmax(axis=1)\n",
    "plt.figure(figsize=(12, 5))\n",
    "plt.plot(df[\"Log_Returns\"], label=\"Log Returns\")\n",
    "plt.plot(df[\"Regime\"], label=\"Regime\", alpha=0.6)\n",
    "plt.title(\"Markov Regime Switching on Log Returns\")\n",
    "plt.legend()\n",
    "plt.tight_layout()\n",
    "plt.show()"
   ]
  }
 ],
 "metadata": {
  "kernelspec": {
   "display_name": "Python 3 (ipykernel)",
   "language": "python",
   "name": "python3"
  },
  "language_info": {
   "codemirror_mode": {
    "name": "ipython",
    "version": 3
   },
   "file_extension": ".py",
   "mimetype": "text/x-python",
   "name": "python",
   "nbconvert_exporter": "python",
   "pygments_lexer": "ipython3",
   "version": "3.11.7"
  }
 },
 "nbformat": 4,
 "nbformat_minor": 5
}
